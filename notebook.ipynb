{
 "metadata": {
  "language_info": {
   "codemirror_mode": {
    "name": "ipython",
    "version": 3
   },
   "file_extension": ".py",
   "mimetype": "text/x-python",
   "name": "python",
   "nbconvert_exporter": "python",
   "pygments_lexer": "ipython3",
   "version": "3.7.6-final"
  },
  "orig_nbformat": 2,
  "kernelspec": {
   "name": "python37664bitminiconda3virtualenvdd964fd679ba46e499a3b2840c93a75a",
   "display_name": "Python 3.7.6 64-bit ('miniconda3': virtualenv)"
  }
 },
 "nbformat": 4,
 "nbformat_minor": 2,
 "cells": [
  {
   "cell_type": "code",
   "execution_count": 31,
   "metadata": {},
   "outputs": [],
   "source": [
    "import numpy as np\n",
    "from dataclasses import dataclass\n",
    "import matplotlib.pyplot as plt\n",
    "\n",
    "\n",
    "\n",
    "class Cov:\n",
    "    def __init__(self, h=0.2):\n",
    "        self.h = h \n",
    "\n",
    "    def gamma(self, s):\n",
    "        return (np.power(np.abs(s - 1), 2 * self.h) + np.power(np.abs(s + 1), 2 * self.h) - 2 * np.power(np.abs(s), 2 * self.h))/2\n",
    "\n",
    "class Structure:\n",
    "    def __init__(self, sample_size=100):\n",
    "        self.sample_size = sample_size\n",
    "    \n",
    "    def __str__(self):\n",
    "        return f'the sample size {self.sample_size}, h paramater {self.h}'\n",
    "    \n",
    "    def matrix(self, cov_instance=Cov()):\n",
    "        \"\"\"return the covariance structure matrix here g(h, h) = 1\"\"\"\n",
    "        n = self.sample_size\n",
    "        cov = np.zeros((n,n))\n",
    "        for i in range(n):\n",
    "            for j in range(n):\n",
    "                diff = i - j\n",
    "                cov[i][j] = cov_instance.gamma(diff)\n",
    "        return cov\n",
    "\n",
    "class GaussianProcess:\n",
    "    \"\"\"\n",
    "    attributes\n",
    "    ----------\n",
    "    cov_structure: stationnary covariance of multifractional gaussian process\n",
    "    n: number of realizations of Y we want to generate\n",
    "    methods\n",
    "    -------\n",
    "    get_params: get circular matrix and integer parameter m \n",
    "    spectrum: eigenvalues of circular matrix\n",
    "    simulate_gaussian_process: main function\n",
    "    slice_circular: generate circular matrix\n",
    "    embedding_length: m parameter \n",
    "    check_symmetric: return True if arg is a symetric matrix\n",
    "    \"\"\"\n",
    "    def __init__(self, cov_structure, cov_instance=Cov()):\n",
    "        self.__cov_structure = cov_structure\n",
    "        self.n = cov_structure.shape[0]\n",
    "        self.cov_instance = cov_instance\n",
    "\n",
    "    def __get_params(self, **kwargs):\n",
    "        if kwargs:\n",
    "            m = kwargs['embedding_value'] * 2\n",
    "        else:\n",
    "            m = self.__embedding_length(n=self.n)\n",
    "\n",
    "        # get circular matrix pattern\n",
    "        gamma0 = self.cov_structure[0,:] \n",
    "        theta0 = np.array([self.cov_instance.gamma(k) for k in range(m // 2 + 1)] + [self.cov_instance.gamma(k) for k in range(m // 2 + 1 , m)])\n",
    "        return self.__slice_circular(theta0), m\n",
    "\n",
    "\n",
    "    def __spectrum(self):\n",
    "        \"\"\"compute eigenvalues and eigenvectors of linear operator\"\"\"\n",
    "        circular_matrix, m = self.__get_params()\n",
    "        eigenvalues, eigenvectors = np.linalg.eig(circular_matrix)\n",
    "\n",
    "        while not np.all(eigenvalues >= 0):\n",
    "            print('not sdp')\n",
    "            circular_matrix, m = self.__get_params(embedding_value=m)\n",
    "            eigenvalues, eigenvectors = np.linalg.eig(circular_matrix)\n",
    "\n",
    "        return eigenvalues, eigenvectors\n",
    "    \n",
    "    def simulate_gaussian_process(self):\n",
    "        \"\"\"simulate the gaussian process\"\"\"\n",
    "        eigenvalues, Q = self.__spectrum()\n",
    "        print('get_eigenvalues')\n",
    "        gamma = np.diag(np.sqrt(eigenvalues))\n",
    "        print('get_gamma')\n",
    "        random_normal = np.random.normal(0, 1, gamma.shape[0]).reshape(-1, 1)\n",
    "        a = gamma.dot(Q.T).dot(random_normal).flatten()\n",
    "        print('get_multiply')\n",
    "        return np.real(np.fft.fft(a)[:self.n]) \n",
    "\n",
    "    def generateFBM(self, delta, gp):\n",
    "        fbm = []\n",
    "        coeff = np.power(delta, self.cov_instance.h)\n",
    "        for i in range(self.n):\n",
    "            fbm.append(coeff * gp[:i+1].sum())\n",
    "\n",
    "        return np.array(fbm)\n",
    "         \n",
    "\n",
    "\n",
    "    @staticmethod\n",
    "    def __slice_circular(vector):\n",
    "        \"\"\" generate circular matrix from a list pattern as first row\"\"\"\n",
    "        ntimes = len(vector) - 1\n",
    "        matrix = vector\n",
    "        permute = vector.tolist()\n",
    "        for i in range(ntimes):\n",
    "            permute = [permute[-1]] + permute[:-1]\n",
    "            matrix = np.vstack([matrix, permute])\n",
    "        return matrix\n",
    "\n",
    "    @staticmethod\n",
    "    def __embedding_length(n):\n",
    "      \"\"\"for circular embedding matrix calculation\n",
    "      return_back arg enable increse the power of g in \n",
    "      computed eigenvalues are negative\n",
    "      \"\"\"\n",
    "      return np.power(2, int(1 + np.log(n - 1) / np.log(2)) + 1)\n",
    "\n",
    "    @staticmethod \n",
    "    def __check_symmetric(a, tol=1e-8):\n",
    "        \"\"\"\n",
    "        return if a given matrix is symetric or not with given confidence\n",
    "        intervall\n",
    "        \"\"\"\n",
    "        return np.all(np.abs(a-a.T) < tol)\n",
    "\n",
    "    @property \n",
    "    def cov_structure(self):\n",
    "      return self.__cov_structure \n",
    "\n",
    "    @cov_structure.setter\n",
    "    def cov_structure(self, new_value):\n",
    "        if isinstance(new_value, np.ndarray):\n",
    "            row, col = new_value.shape\n",
    "            is_symetric = self.__check_symmetric(new_value)\n",
    "            is_square = row == col\n",
    "            if is_square and is_symetric:\n",
    "                self.__cov_structure = new_value\n",
    "            else:\n",
    "                raise('Try to give well define Matrix -- SPD')\n",
    "        else:\n",
    "            raise('Except ndarray object')\n",
    "\n"
   ]
  },
  {
   "cell_type": "code",
   "execution_count": 32,
   "metadata": {},
   "outputs": [
    {
     "output_type": "execute_result",
     "data": {
      "text/plain": "array([[ 1.00000000e+00, -3.40246045e-01, -4.35851238e-02, ...,\n        -7.94991478e-05, -7.82051227e-05, -7.69449810e-05],\n       [-3.40246045e-01,  1.00000000e+00, -3.40246045e-01, ...,\n        -8.08283308e-05, -7.94991478e-05, -7.82051227e-05],\n       [-4.35851238e-02, -3.40246045e-01,  1.00000000e+00, ...,\n        -8.21940084e-05, -8.08283308e-05, -7.94991478e-05],\n       ...,\n       [-7.94991478e-05, -8.08283308e-05, -8.21940084e-05, ...,\n         1.00000000e+00, -3.40246045e-01, -4.35851238e-02],\n       [-7.82051227e-05, -7.94991478e-05, -8.08283308e-05, ...,\n        -3.40246045e-01,  1.00000000e+00, -3.40246045e-01],\n       [-7.69449810e-05, -7.82051227e-05, -7.94991478e-05, ...,\n        -4.35851238e-02, -3.40246045e-01,  1.00000000e+00]])"
     },
     "metadata": {},
     "execution_count": 32
    }
   ],
   "source": [
    "cis = Cov()\n",
    "matrix = Structure().matrix(cis)\n",
    "matrix"
   ]
  },
  {
   "cell_type": "code",
   "execution_count": 33,
   "metadata": {},
   "outputs": [],
   "source": [
    "gp = GaussianProcess(matrix, cis)"
   ]
  },
  {
   "cell_type": "code",
   "execution_count": 34,
   "metadata": {
    "tags": []
   },
   "outputs": [
    {
     "output_type": "stream",
     "name": "stdout",
     "text": "get_eigenvalues\nget_gamma\nget_multiply\n"
    }
   ],
   "source": [
    "x = gp.simulate_gaussian_process()"
   ]
  },
  {
   "cell_type": "code",
   "execution_count": 35,
   "metadata": {},
   "outputs": [],
   "source": [
    "\n",
    "brm = gp.generateFBM(delta=.01, gp=x)"
   ]
  },
  {
   "cell_type": "code",
   "execution_count": 38,
   "metadata": {},
   "outputs": [
    {
     "output_type": "execute_result",
     "data": {
      "text/plain": "<matplotlib.collections.PathCollection at 0x11ab3de50>"
     },
     "metadata": {},
     "execution_count": 38
    },
    {
     "output_type": "display_data",
     "data": {
      "text/plain": "<Figure size 432x288 with 1 Axes>",
      "image/svg+xml": "<?xml version=\"1.0\" encoding=\"utf-8\" standalone=\"no\"?>\n<!DOCTYPE svg PUBLIC \"-//W3C//DTD SVG 1.1//EN\"\n  \"http://www.w3.org/Graphics/SVG/1.1/DTD/svg11.dtd\">\n<!-- Created with matplotlib (https://matplotlib.org/) -->\n<svg height=\"248.518125pt\" version=\"1.1\" viewBox=\"0 0 377.304688 248.518125\" width=\"377.304688pt\" xmlns=\"http://www.w3.org/2000/svg\" xmlns:xlink=\"http://www.w3.org/1999/xlink\">\n <defs>\n  <style type=\"text/css\">\n*{stroke-linecap:butt;stroke-linejoin:round;}\n  </style>\n </defs>\n <g id=\"figure_1\">\n  <g id=\"patch_1\">\n   <path d=\"M 0 248.518125 \nL 377.304688 248.518125 \nL 377.304688 0 \nL 0 0 \nz\n\" style=\"fill:none;\"/>\n  </g>\n  <g id=\"axes_1\">\n   <g id=\"patch_2\">\n    <path d=\"M 35.304688 224.64 \nL 370.104688 224.64 \nL 370.104688 7.2 \nL 35.304688 7.2 \nz\n\" style=\"fill:#ffffff;\"/>\n   </g>\n   <g id=\"PathCollection_1\">\n    <defs>\n     <path d=\"M 0 3 \nC 0.795609 3 1.55874 2.683901 2.12132 2.12132 \nC 2.683901 1.55874 3 0.795609 3 0 \nC 3 -0.795609 2.683901 -1.55874 2.12132 -2.12132 \nC 1.55874 -2.683901 0.795609 -3 0 -3 \nC -0.795609 -3 -1.55874 -2.683901 -2.12132 -2.12132 \nC -2.683901 -1.55874 -3 -0.795609 -3 0 \nC -3 0.795609 -2.683901 1.55874 -2.12132 2.12132 \nC -1.55874 2.683901 -0.795609 3 0 3 \nz\n\" id=\"m8c3ee11879\" style=\"stroke:#1f77b4;\"/>\n    </defs>\n    <g clip-path=\"url(#p34cbcf6f00)\">\n     <use style=\"fill:#1f77b4;stroke:#1f77b4;\" x=\"50.522869\" xlink:href=\"#m8c3ee11879\" y=\"114.869996\"/>\n     <use style=\"fill:#1f77b4;stroke:#1f77b4;\" x=\"53.597249\" xlink:href=\"#m8c3ee11879\" y=\"136.37297\"/>\n     <use style=\"fill:#1f77b4;stroke:#1f77b4;\" x=\"56.67163\" xlink:href=\"#m8c3ee11879\" y=\"136.365884\"/>\n     <use style=\"fill:#1f77b4;stroke:#1f77b4;\" x=\"59.74601\" xlink:href=\"#m8c3ee11879\" y=\"148.787132\"/>\n     <use style=\"fill:#1f77b4;stroke:#1f77b4;\" x=\"62.82039\" xlink:href=\"#m8c3ee11879\" y=\"140.812318\"/>\n     <use style=\"fill:#1f77b4;stroke:#1f77b4;\" x=\"65.89477\" xlink:href=\"#m8c3ee11879\" y=\"167.959396\"/>\n     <use style=\"fill:#1f77b4;stroke:#1f77b4;\" x=\"68.96915\" xlink:href=\"#m8c3ee11879\" y=\"153.646817\"/>\n     <use style=\"fill:#1f77b4;stroke:#1f77b4;\" x=\"72.04353\" xlink:href=\"#m8c3ee11879\" y=\"135.493236\"/>\n     <use style=\"fill:#1f77b4;stroke:#1f77b4;\" x=\"75.117911\" xlink:href=\"#m8c3ee11879\" y=\"131.792343\"/>\n     <use style=\"fill:#1f77b4;stroke:#1f77b4;\" x=\"78.192291\" xlink:href=\"#m8c3ee11879\" y=\"127.163718\"/>\n     <use style=\"fill:#1f77b4;stroke:#1f77b4;\" x=\"81.266671\" xlink:href=\"#m8c3ee11879\" y=\"130.038743\"/>\n     <use style=\"fill:#1f77b4;stroke:#1f77b4;\" x=\"84.341051\" xlink:href=\"#m8c3ee11879\" y=\"123.044188\"/>\n     <use style=\"fill:#1f77b4;stroke:#1f77b4;\" x=\"87.415431\" xlink:href=\"#m8c3ee11879\" y=\"121.293347\"/>\n     <use style=\"fill:#1f77b4;stroke:#1f77b4;\" x=\"90.489811\" xlink:href=\"#m8c3ee11879\" y=\"104.311579\"/>\n     <use style=\"fill:#1f77b4;stroke:#1f77b4;\" x=\"93.564192\" xlink:href=\"#m8c3ee11879\" y=\"110.285291\"/>\n     <use style=\"fill:#1f77b4;stroke:#1f77b4;\" x=\"96.638572\" xlink:href=\"#m8c3ee11879\" y=\"124.985249\"/>\n     <use style=\"fill:#1f77b4;stroke:#1f77b4;\" x=\"99.712952\" xlink:href=\"#m8c3ee11879\" y=\"137.882763\"/>\n     <use style=\"fill:#1f77b4;stroke:#1f77b4;\" x=\"102.787332\" xlink:href=\"#m8c3ee11879\" y=\"136.970828\"/>\n     <use style=\"fill:#1f77b4;stroke:#1f77b4;\" x=\"105.861712\" xlink:href=\"#m8c3ee11879\" y=\"134.942791\"/>\n     <use style=\"fill:#1f77b4;stroke:#1f77b4;\" x=\"108.936092\" xlink:href=\"#m8c3ee11879\" y=\"132.054354\"/>\n     <use style=\"fill:#1f77b4;stroke:#1f77b4;\" x=\"112.010473\" xlink:href=\"#m8c3ee11879\" y=\"119.514328\"/>\n     <use style=\"fill:#1f77b4;stroke:#1f77b4;\" x=\"115.084853\" xlink:href=\"#m8c3ee11879\" y=\"111.700903\"/>\n     <use style=\"fill:#1f77b4;stroke:#1f77b4;\" x=\"118.159233\" xlink:href=\"#m8c3ee11879\" y=\"103.275749\"/>\n     <use style=\"fill:#1f77b4;stroke:#1f77b4;\" x=\"121.233613\" xlink:href=\"#m8c3ee11879\" y=\"114.725625\"/>\n     <use style=\"fill:#1f77b4;stroke:#1f77b4;\" x=\"124.307993\" xlink:href=\"#m8c3ee11879\" y=\"100.384405\"/>\n     <use style=\"fill:#1f77b4;stroke:#1f77b4;\" x=\"127.382373\" xlink:href=\"#m8c3ee11879\" y=\"118.375296\"/>\n     <use style=\"fill:#1f77b4;stroke:#1f77b4;\" x=\"130.456754\" xlink:href=\"#m8c3ee11879\" y=\"95.50358\"/>\n     <use style=\"fill:#1f77b4;stroke:#1f77b4;\" x=\"133.531134\" xlink:href=\"#m8c3ee11879\" y=\"95.105277\"/>\n     <use style=\"fill:#1f77b4;stroke:#1f77b4;\" x=\"136.605514\" xlink:href=\"#m8c3ee11879\" y=\"87.845215\"/>\n     <use style=\"fill:#1f77b4;stroke:#1f77b4;\" x=\"139.679894\" xlink:href=\"#m8c3ee11879\" y=\"70.575122\"/>\n     <use style=\"fill:#1f77b4;stroke:#1f77b4;\" x=\"142.754274\" xlink:href=\"#m8c3ee11879\" y=\"94.084485\"/>\n     <use style=\"fill:#1f77b4;stroke:#1f77b4;\" x=\"145.828654\" xlink:href=\"#m8c3ee11879\" y=\"80.783893\"/>\n     <use style=\"fill:#1f77b4;stroke:#1f77b4;\" x=\"148.903035\" xlink:href=\"#m8c3ee11879\" y=\"56.788696\"/>\n     <use style=\"fill:#1f77b4;stroke:#1f77b4;\" x=\"151.977415\" xlink:href=\"#m8c3ee11879\" y=\"53.490291\"/>\n     <use style=\"fill:#1f77b4;stroke:#1f77b4;\" x=\"155.051795\" xlink:href=\"#m8c3ee11879\" y=\"42.991564\"/>\n     <use style=\"fill:#1f77b4;stroke:#1f77b4;\" x=\"158.126175\" xlink:href=\"#m8c3ee11879\" y=\"34.493887\"/>\n     <use style=\"fill:#1f77b4;stroke:#1f77b4;\" x=\"161.200555\" xlink:href=\"#m8c3ee11879\" y=\"33.487899\"/>\n     <use style=\"fill:#1f77b4;stroke:#1f77b4;\" x=\"164.274935\" xlink:href=\"#m8c3ee11879\" y=\"52.240409\"/>\n     <use style=\"fill:#1f77b4;stroke:#1f77b4;\" x=\"167.349316\" xlink:href=\"#m8c3ee11879\" y=\"67.405117\"/>\n     <use style=\"fill:#1f77b4;stroke:#1f77b4;\" x=\"170.423696\" xlink:href=\"#m8c3ee11879\" y=\"64.668936\"/>\n     <use style=\"fill:#1f77b4;stroke:#1f77b4;\" x=\"173.498076\" xlink:href=\"#m8c3ee11879\" y=\"84.11619\"/>\n     <use style=\"fill:#1f77b4;stroke:#1f77b4;\" x=\"176.572456\" xlink:href=\"#m8c3ee11879\" y=\"78.809588\"/>\n     <use style=\"fill:#1f77b4;stroke:#1f77b4;\" x=\"179.646836\" xlink:href=\"#m8c3ee11879\" y=\"86.03829\"/>\n     <use style=\"fill:#1f77b4;stroke:#1f77b4;\" x=\"182.721216\" xlink:href=\"#m8c3ee11879\" y=\"71.549761\"/>\n     <use style=\"fill:#1f77b4;stroke:#1f77b4;\" x=\"185.795597\" xlink:href=\"#m8c3ee11879\" y=\"80.345129\"/>\n     <use style=\"fill:#1f77b4;stroke:#1f77b4;\" x=\"188.869977\" xlink:href=\"#m8c3ee11879\" y=\"87.556911\"/>\n     <use style=\"fill:#1f77b4;stroke:#1f77b4;\" x=\"191.944357\" xlink:href=\"#m8c3ee11879\" y=\"74.208549\"/>\n     <use style=\"fill:#1f77b4;stroke:#1f77b4;\" x=\"195.018737\" xlink:href=\"#m8c3ee11879\" y=\"58.888352\"/>\n     <use style=\"fill:#1f77b4;stroke:#1f77b4;\" x=\"198.093117\" xlink:href=\"#m8c3ee11879\" y=\"54.953385\"/>\n     <use style=\"fill:#1f77b4;stroke:#1f77b4;\" x=\"201.167497\" xlink:href=\"#m8c3ee11879\" y=\"44.495014\"/>\n     <use style=\"fill:#1f77b4;stroke:#1f77b4;\" x=\"204.241878\" xlink:href=\"#m8c3ee11879\" y=\"31.678439\"/>\n     <use style=\"fill:#1f77b4;stroke:#1f77b4;\" x=\"207.316258\" xlink:href=\"#m8c3ee11879\" y=\"17.083636\"/>\n     <use style=\"fill:#1f77b4;stroke:#1f77b4;\" x=\"210.390638\" xlink:href=\"#m8c3ee11879\" y=\"32.017304\"/>\n     <use style=\"fill:#1f77b4;stroke:#1f77b4;\" x=\"213.465018\" xlink:href=\"#m8c3ee11879\" y=\"22.134782\"/>\n     <use style=\"fill:#1f77b4;stroke:#1f77b4;\" x=\"216.539398\" xlink:href=\"#m8c3ee11879\" y=\"46.642991\"/>\n     <use style=\"fill:#1f77b4;stroke:#1f77b4;\" x=\"219.613778\" xlink:href=\"#m8c3ee11879\" y=\"84.907733\"/>\n     <use style=\"fill:#1f77b4;stroke:#1f77b4;\" x=\"222.688159\" xlink:href=\"#m8c3ee11879\" y=\"87.300117\"/>\n     <use style=\"fill:#1f77b4;stroke:#1f77b4;\" x=\"225.762539\" xlink:href=\"#m8c3ee11879\" y=\"110.65726\"/>\n     <use style=\"fill:#1f77b4;stroke:#1f77b4;\" x=\"228.836919\" xlink:href=\"#m8c3ee11879\" y=\"130.551661\"/>\n     <use style=\"fill:#1f77b4;stroke:#1f77b4;\" x=\"231.911299\" xlink:href=\"#m8c3ee11879\" y=\"123.408955\"/>\n     <use style=\"fill:#1f77b4;stroke:#1f77b4;\" x=\"234.985679\" xlink:href=\"#m8c3ee11879\" y=\"125.043003\"/>\n     <use style=\"fill:#1f77b4;stroke:#1f77b4;\" x=\"238.060059\" xlink:href=\"#m8c3ee11879\" y=\"105.347074\"/>\n     <use style=\"fill:#1f77b4;stroke:#1f77b4;\" x=\"241.13444\" xlink:href=\"#m8c3ee11879\" y=\"103.526346\"/>\n     <use style=\"fill:#1f77b4;stroke:#1f77b4;\" x=\"244.20882\" xlink:href=\"#m8c3ee11879\" y=\"112.986995\"/>\n     <use style=\"fill:#1f77b4;stroke:#1f77b4;\" x=\"247.2832\" xlink:href=\"#m8c3ee11879\" y=\"96.516599\"/>\n     <use style=\"fill:#1f77b4;stroke:#1f77b4;\" x=\"250.35758\" xlink:href=\"#m8c3ee11879\" y=\"104.130768\"/>\n     <use style=\"fill:#1f77b4;stroke:#1f77b4;\" x=\"253.43196\" xlink:href=\"#m8c3ee11879\" y=\"115.493106\"/>\n     <use style=\"fill:#1f77b4;stroke:#1f77b4;\" x=\"256.50634\" xlink:href=\"#m8c3ee11879\" y=\"113.246205\"/>\n     <use style=\"fill:#1f77b4;stroke:#1f77b4;\" x=\"259.580721\" xlink:href=\"#m8c3ee11879\" y=\"88.41967\"/>\n     <use style=\"fill:#1f77b4;stroke:#1f77b4;\" x=\"262.655101\" xlink:href=\"#m8c3ee11879\" y=\"75.742269\"/>\n     <use style=\"fill:#1f77b4;stroke:#1f77b4;\" x=\"265.729481\" xlink:href=\"#m8c3ee11879\" y=\"55.111641\"/>\n     <use style=\"fill:#1f77b4;stroke:#1f77b4;\" x=\"268.803861\" xlink:href=\"#m8c3ee11879\" y=\"47.82619\"/>\n     <use style=\"fill:#1f77b4;stroke:#1f77b4;\" x=\"271.878241\" xlink:href=\"#m8c3ee11879\" y=\"43.273941\"/>\n     <use style=\"fill:#1f77b4;stroke:#1f77b4;\" x=\"274.952621\" xlink:href=\"#m8c3ee11879\" y=\"61.784891\"/>\n     <use style=\"fill:#1f77b4;stroke:#1f77b4;\" x=\"278.027002\" xlink:href=\"#m8c3ee11879\" y=\"50.89865\"/>\n     <use style=\"fill:#1f77b4;stroke:#1f77b4;\" x=\"281.101382\" xlink:href=\"#m8c3ee11879\" y=\"82.506039\"/>\n     <use style=\"fill:#1f77b4;stroke:#1f77b4;\" x=\"284.175762\" xlink:href=\"#m8c3ee11879\" y=\"112.381604\"/>\n     <use style=\"fill:#1f77b4;stroke:#1f77b4;\" x=\"287.250142\" xlink:href=\"#m8c3ee11879\" y=\"128.911869\"/>\n     <use style=\"fill:#1f77b4;stroke:#1f77b4;\" x=\"290.324522\" xlink:href=\"#m8c3ee11879\" y=\"121.043285\"/>\n     <use style=\"fill:#1f77b4;stroke:#1f77b4;\" x=\"293.398902\" xlink:href=\"#m8c3ee11879\" y=\"122.678266\"/>\n     <use style=\"fill:#1f77b4;stroke:#1f77b4;\" x=\"296.473283\" xlink:href=\"#m8c3ee11879\" y=\"133.586432\"/>\n     <use style=\"fill:#1f77b4;stroke:#1f77b4;\" x=\"299.547663\" xlink:href=\"#m8c3ee11879\" y=\"115.713871\"/>\n     <use style=\"fill:#1f77b4;stroke:#1f77b4;\" x=\"302.622043\" xlink:href=\"#m8c3ee11879\" y=\"134.963606\"/>\n     <use style=\"fill:#1f77b4;stroke:#1f77b4;\" x=\"305.696423\" xlink:href=\"#m8c3ee11879\" y=\"129.517029\"/>\n     <use style=\"fill:#1f77b4;stroke:#1f77b4;\" x=\"308.770803\" xlink:href=\"#m8c3ee11879\" y=\"118.478629\"/>\n     <use style=\"fill:#1f77b4;stroke:#1f77b4;\" x=\"311.845183\" xlink:href=\"#m8c3ee11879\" y=\"149.081903\"/>\n     <use style=\"fill:#1f77b4;stroke:#1f77b4;\" x=\"314.919564\" xlink:href=\"#m8c3ee11879\" y=\"144.849373\"/>\n     <use style=\"fill:#1f77b4;stroke:#1f77b4;\" x=\"317.993944\" xlink:href=\"#m8c3ee11879\" y=\"155.914257\"/>\n     <use style=\"fill:#1f77b4;stroke:#1f77b4;\" x=\"321.068324\" xlink:href=\"#m8c3ee11879\" y=\"154.409958\"/>\n     <use style=\"fill:#1f77b4;stroke:#1f77b4;\" x=\"324.142704\" xlink:href=\"#m8c3ee11879\" y=\"144.767379\"/>\n     <use style=\"fill:#1f77b4;stroke:#1f77b4;\" x=\"327.217084\" xlink:href=\"#m8c3ee11879\" y=\"159.85211\"/>\n     <use style=\"fill:#1f77b4;stroke:#1f77b4;\" x=\"330.291464\" xlink:href=\"#m8c3ee11879\" y=\"173.271437\"/>\n     <use style=\"fill:#1f77b4;stroke:#1f77b4;\" x=\"333.365845\" xlink:href=\"#m8c3ee11879\" y=\"172.093156\"/>\n     <use style=\"fill:#1f77b4;stroke:#1f77b4;\" x=\"336.440225\" xlink:href=\"#m8c3ee11879\" y=\"200.742425\"/>\n     <use style=\"fill:#1f77b4;stroke:#1f77b4;\" x=\"339.514605\" xlink:href=\"#m8c3ee11879\" y=\"214.756364\"/>\n     <use style=\"fill:#1f77b4;stroke:#1f77b4;\" x=\"342.588985\" xlink:href=\"#m8c3ee11879\" y=\"187.292311\"/>\n     <use style=\"fill:#1f77b4;stroke:#1f77b4;\" x=\"345.663365\" xlink:href=\"#m8c3ee11879\" y=\"179.33968\"/>\n     <use style=\"fill:#1f77b4;stroke:#1f77b4;\" x=\"348.737745\" xlink:href=\"#m8c3ee11879\" y=\"189.156146\"/>\n     <use style=\"fill:#1f77b4;stroke:#1f77b4;\" x=\"351.812126\" xlink:href=\"#m8c3ee11879\" y=\"192.028236\"/>\n     <use style=\"fill:#1f77b4;stroke:#1f77b4;\" x=\"354.886506\" xlink:href=\"#m8c3ee11879\" y=\"184.94314\"/>\n    </g>\n   </g>\n   <g id=\"matplotlib.axis_1\">\n    <g id=\"xtick_1\">\n     <g id=\"line2d_1\">\n      <defs>\n       <path d=\"M 0 0 \nL 0 3.5 \n\" id=\"m0a200d2978\" style=\"stroke:#000000;stroke-width:0.8;\"/>\n      </defs>\n      <g>\n       <use style=\"stroke:#000000;stroke-width:0.8;\" x=\"50.522869\" xlink:href=\"#m0a200d2978\" y=\"224.64\"/>\n      </g>\n     </g>\n     <g id=\"text_1\">\n      <!-- 0.0 -->\n      <defs>\n       <path d=\"M 31.78125 66.40625 \nQ 24.171875 66.40625 20.328125 58.90625 \nQ 16.5 51.421875 16.5 36.375 \nQ 16.5 21.390625 20.328125 13.890625 \nQ 24.171875 6.390625 31.78125 6.390625 \nQ 39.453125 6.390625 43.28125 13.890625 \nQ 47.125 21.390625 47.125 36.375 \nQ 47.125 51.421875 43.28125 58.90625 \nQ 39.453125 66.40625 31.78125 66.40625 \nz\nM 31.78125 74.21875 \nQ 44.046875 74.21875 50.515625 64.515625 \nQ 56.984375 54.828125 56.984375 36.375 \nQ 56.984375 17.96875 50.515625 8.265625 \nQ 44.046875 -1.421875 31.78125 -1.421875 \nQ 19.53125 -1.421875 13.0625 8.265625 \nQ 6.59375 17.96875 6.59375 36.375 \nQ 6.59375 54.828125 13.0625 64.515625 \nQ 19.53125 74.21875 31.78125 74.21875 \nz\n\" id=\"DejaVuSans-48\"/>\n       <path d=\"M 10.6875 12.40625 \nL 21 12.40625 \nL 21 0 \nL 10.6875 0 \nz\n\" id=\"DejaVuSans-46\"/>\n      </defs>\n      <g transform=\"translate(42.571307 239.238437)scale(0.1 -0.1)\">\n       <use xlink:href=\"#DejaVuSans-48\"/>\n       <use x=\"63.623047\" xlink:href=\"#DejaVuSans-46\"/>\n       <use x=\"95.410156\" xlink:href=\"#DejaVuSans-48\"/>\n      </g>\n     </g>\n    </g>\n    <g id=\"xtick_2\">\n     <g id=\"line2d_2\">\n      <g>\n       <use style=\"stroke:#000000;stroke-width:0.8;\" x=\"111.395597\" xlink:href=\"#m0a200d2978\" y=\"224.64\"/>\n      </g>\n     </g>\n     <g id=\"text_2\">\n      <!-- 0.2 -->\n      <defs>\n       <path d=\"M 19.1875 8.296875 \nL 53.609375 8.296875 \nL 53.609375 0 \nL 7.328125 0 \nL 7.328125 8.296875 \nQ 12.9375 14.109375 22.625 23.890625 \nQ 32.328125 33.6875 34.8125 36.53125 \nQ 39.546875 41.84375 41.421875 45.53125 \nQ 43.3125 49.21875 43.3125 52.78125 \nQ 43.3125 58.59375 39.234375 62.25 \nQ 35.15625 65.921875 28.609375 65.921875 \nQ 23.96875 65.921875 18.8125 64.3125 \nQ 13.671875 62.703125 7.8125 59.421875 \nL 7.8125 69.390625 \nQ 13.765625 71.78125 18.9375 73 \nQ 24.125 74.21875 28.421875 74.21875 \nQ 39.75 74.21875 46.484375 68.546875 \nQ 53.21875 62.890625 53.21875 53.421875 \nQ 53.21875 48.921875 51.53125 44.890625 \nQ 49.859375 40.875 45.40625 35.40625 \nQ 44.1875 33.984375 37.640625 27.21875 \nQ 31.109375 20.453125 19.1875 8.296875 \nz\n\" id=\"DejaVuSans-50\"/>\n      </defs>\n      <g transform=\"translate(103.444034 239.238437)scale(0.1 -0.1)\">\n       <use xlink:href=\"#DejaVuSans-48\"/>\n       <use x=\"63.623047\" xlink:href=\"#DejaVuSans-46\"/>\n       <use x=\"95.410156\" xlink:href=\"#DejaVuSans-50\"/>\n      </g>\n     </g>\n    </g>\n    <g id=\"xtick_3\">\n     <g id=\"line2d_3\">\n      <g>\n       <use style=\"stroke:#000000;stroke-width:0.8;\" x=\"172.268324\" xlink:href=\"#m0a200d2978\" y=\"224.64\"/>\n      </g>\n     </g>\n     <g id=\"text_3\">\n      <!-- 0.4 -->\n      <defs>\n       <path d=\"M 37.796875 64.3125 \nL 12.890625 25.390625 \nL 37.796875 25.390625 \nz\nM 35.203125 72.90625 \nL 47.609375 72.90625 \nL 47.609375 25.390625 \nL 58.015625 25.390625 \nL 58.015625 17.1875 \nL 47.609375 17.1875 \nL 47.609375 0 \nL 37.796875 0 \nL 37.796875 17.1875 \nL 4.890625 17.1875 \nL 4.890625 26.703125 \nz\n\" id=\"DejaVuSans-52\"/>\n      </defs>\n      <g transform=\"translate(164.316761 239.238437)scale(0.1 -0.1)\">\n       <use xlink:href=\"#DejaVuSans-48\"/>\n       <use x=\"63.623047\" xlink:href=\"#DejaVuSans-46\"/>\n       <use x=\"95.410156\" xlink:href=\"#DejaVuSans-52\"/>\n      </g>\n     </g>\n    </g>\n    <g id=\"xtick_4\">\n     <g id=\"line2d_4\">\n      <g>\n       <use style=\"stroke:#000000;stroke-width:0.8;\" x=\"233.141051\" xlink:href=\"#m0a200d2978\" y=\"224.64\"/>\n      </g>\n     </g>\n     <g id=\"text_4\">\n      <!-- 0.6 -->\n      <defs>\n       <path d=\"M 33.015625 40.375 \nQ 26.375 40.375 22.484375 35.828125 \nQ 18.609375 31.296875 18.609375 23.390625 \nQ 18.609375 15.53125 22.484375 10.953125 \nQ 26.375 6.390625 33.015625 6.390625 \nQ 39.65625 6.390625 43.53125 10.953125 \nQ 47.40625 15.53125 47.40625 23.390625 \nQ 47.40625 31.296875 43.53125 35.828125 \nQ 39.65625 40.375 33.015625 40.375 \nz\nM 52.59375 71.296875 \nL 52.59375 62.3125 \nQ 48.875 64.0625 45.09375 64.984375 \nQ 41.3125 65.921875 37.59375 65.921875 \nQ 27.828125 65.921875 22.671875 59.328125 \nQ 17.53125 52.734375 16.796875 39.40625 \nQ 19.671875 43.65625 24.015625 45.921875 \nQ 28.375 48.1875 33.59375 48.1875 \nQ 44.578125 48.1875 50.953125 41.515625 \nQ 57.328125 34.859375 57.328125 23.390625 \nQ 57.328125 12.15625 50.6875 5.359375 \nQ 44.046875 -1.421875 33.015625 -1.421875 \nQ 20.359375 -1.421875 13.671875 8.265625 \nQ 6.984375 17.96875 6.984375 36.375 \nQ 6.984375 53.65625 15.1875 63.9375 \nQ 23.390625 74.21875 37.203125 74.21875 \nQ 40.921875 74.21875 44.703125 73.484375 \nQ 48.484375 72.75 52.59375 71.296875 \nz\n\" id=\"DejaVuSans-54\"/>\n      </defs>\n      <g transform=\"translate(225.189489 239.238437)scale(0.1 -0.1)\">\n       <use xlink:href=\"#DejaVuSans-48\"/>\n       <use x=\"63.623047\" xlink:href=\"#DejaVuSans-46\"/>\n       <use x=\"95.410156\" xlink:href=\"#DejaVuSans-54\"/>\n      </g>\n     </g>\n    </g>\n    <g id=\"xtick_5\">\n     <g id=\"line2d_5\">\n      <g>\n       <use style=\"stroke:#000000;stroke-width:0.8;\" x=\"294.013778\" xlink:href=\"#m0a200d2978\" y=\"224.64\"/>\n      </g>\n     </g>\n     <g id=\"text_5\">\n      <!-- 0.8 -->\n      <defs>\n       <path d=\"M 31.78125 34.625 \nQ 24.75 34.625 20.71875 30.859375 \nQ 16.703125 27.09375 16.703125 20.515625 \nQ 16.703125 13.921875 20.71875 10.15625 \nQ 24.75 6.390625 31.78125 6.390625 \nQ 38.8125 6.390625 42.859375 10.171875 \nQ 46.921875 13.96875 46.921875 20.515625 \nQ 46.921875 27.09375 42.890625 30.859375 \nQ 38.875 34.625 31.78125 34.625 \nz\nM 21.921875 38.8125 \nQ 15.578125 40.375 12.03125 44.71875 \nQ 8.5 49.078125 8.5 55.328125 \nQ 8.5 64.0625 14.71875 69.140625 \nQ 20.953125 74.21875 31.78125 74.21875 \nQ 42.671875 74.21875 48.875 69.140625 \nQ 55.078125 64.0625 55.078125 55.328125 \nQ 55.078125 49.078125 51.53125 44.71875 \nQ 48 40.375 41.703125 38.8125 \nQ 48.828125 37.15625 52.796875 32.3125 \nQ 56.78125 27.484375 56.78125 20.515625 \nQ 56.78125 9.90625 50.3125 4.234375 \nQ 43.84375 -1.421875 31.78125 -1.421875 \nQ 19.734375 -1.421875 13.25 4.234375 \nQ 6.78125 9.90625 6.78125 20.515625 \nQ 6.78125 27.484375 10.78125 32.3125 \nQ 14.796875 37.15625 21.921875 38.8125 \nz\nM 18.3125 54.390625 \nQ 18.3125 48.734375 21.84375 45.5625 \nQ 25.390625 42.390625 31.78125 42.390625 \nQ 38.140625 42.390625 41.71875 45.5625 \nQ 45.3125 48.734375 45.3125 54.390625 \nQ 45.3125 60.0625 41.71875 63.234375 \nQ 38.140625 66.40625 31.78125 66.40625 \nQ 25.390625 66.40625 21.84375 63.234375 \nQ 18.3125 60.0625 18.3125 54.390625 \nz\n\" id=\"DejaVuSans-56\"/>\n      </defs>\n      <g transform=\"translate(286.062216 239.238437)scale(0.1 -0.1)\">\n       <use xlink:href=\"#DejaVuSans-48\"/>\n       <use x=\"63.623047\" xlink:href=\"#DejaVuSans-46\"/>\n       <use x=\"95.410156\" xlink:href=\"#DejaVuSans-56\"/>\n      </g>\n     </g>\n    </g>\n    <g id=\"xtick_6\">\n     <g id=\"line2d_6\">\n      <g>\n       <use style=\"stroke:#000000;stroke-width:0.8;\" x=\"354.886506\" xlink:href=\"#m0a200d2978\" y=\"224.64\"/>\n      </g>\n     </g>\n     <g id=\"text_6\">\n      <!-- 1.0 -->\n      <defs>\n       <path d=\"M 12.40625 8.296875 \nL 28.515625 8.296875 \nL 28.515625 63.921875 \nL 10.984375 60.40625 \nL 10.984375 69.390625 \nL 28.421875 72.90625 \nL 38.28125 72.90625 \nL 38.28125 8.296875 \nL 54.390625 8.296875 \nL 54.390625 0 \nL 12.40625 0 \nz\n\" id=\"DejaVuSans-49\"/>\n      </defs>\n      <g transform=\"translate(346.934943 239.238437)scale(0.1 -0.1)\">\n       <use xlink:href=\"#DejaVuSans-49\"/>\n       <use x=\"63.623047\" xlink:href=\"#DejaVuSans-46\"/>\n       <use x=\"95.410156\" xlink:href=\"#DejaVuSans-48\"/>\n      </g>\n     </g>\n    </g>\n   </g>\n   <g id=\"matplotlib.axis_2\">\n    <g id=\"ytick_1\">\n     <g id=\"line2d_7\">\n      <defs>\n       <path d=\"M 0 0 \nL -3.5 0 \n\" id=\"mba4178ed3e\" style=\"stroke:#000000;stroke-width:0.8;\"/>\n      </defs>\n      <g>\n       <use style=\"stroke:#000000;stroke-width:0.8;\" x=\"35.304688\" xlink:href=\"#mba4178ed3e\" y=\"215.115187\"/>\n      </g>\n     </g>\n     <g id=\"text_7\">\n      <!-- −30 -->\n      <defs>\n       <path d=\"M 10.59375 35.5 \nL 73.1875 35.5 \nL 73.1875 27.203125 \nL 10.59375 27.203125 \nz\n\" id=\"DejaVuSans-8722\"/>\n       <path d=\"M 40.578125 39.3125 \nQ 47.65625 37.796875 51.625 33 \nQ 55.609375 28.21875 55.609375 21.1875 \nQ 55.609375 10.40625 48.1875 4.484375 \nQ 40.765625 -1.421875 27.09375 -1.421875 \nQ 22.515625 -1.421875 17.65625 -0.515625 \nQ 12.796875 0.390625 7.625 2.203125 \nL 7.625 11.71875 \nQ 11.71875 9.328125 16.59375 8.109375 \nQ 21.484375 6.890625 26.8125 6.890625 \nQ 36.078125 6.890625 40.9375 10.546875 \nQ 45.796875 14.203125 45.796875 21.1875 \nQ 45.796875 27.640625 41.28125 31.265625 \nQ 36.765625 34.90625 28.71875 34.90625 \nL 20.21875 34.90625 \nL 20.21875 43.015625 \nL 29.109375 43.015625 \nQ 36.375 43.015625 40.234375 45.921875 \nQ 44.09375 48.828125 44.09375 54.296875 \nQ 44.09375 59.90625 40.109375 62.90625 \nQ 36.140625 65.921875 28.71875 65.921875 \nQ 24.65625 65.921875 20.015625 65.03125 \nQ 15.375 64.15625 9.8125 62.3125 \nL 9.8125 71.09375 \nQ 15.4375 72.65625 20.34375 73.4375 \nQ 25.25 74.21875 29.59375 74.21875 \nQ 40.828125 74.21875 47.359375 69.109375 \nQ 53.90625 64.015625 53.90625 55.328125 \nQ 53.90625 49.265625 50.4375 45.09375 \nQ 46.96875 40.921875 40.578125 39.3125 \nz\n\" id=\"DejaVuSans-51\"/>\n      </defs>\n      <g transform=\"translate(7.2 218.914406)scale(0.1 -0.1)\">\n       <use xlink:href=\"#DejaVuSans-8722\"/>\n       <use x=\"83.789062\" xlink:href=\"#DejaVuSans-51\"/>\n       <use x=\"147.412109\" xlink:href=\"#DejaVuSans-48\"/>\n      </g>\n     </g>\n    </g>\n    <g id=\"ytick_2\">\n     <g id=\"line2d_8\">\n      <g>\n       <use style=\"stroke:#000000;stroke-width:0.8;\" x=\"35.304688\" xlink:href=\"#mba4178ed3e\" y=\"182.36973\"/>\n      </g>\n     </g>\n     <g id=\"text_8\">\n      <!-- −20 -->\n      <g transform=\"translate(7.2 186.168949)scale(0.1 -0.1)\">\n       <use xlink:href=\"#DejaVuSans-8722\"/>\n       <use x=\"83.789062\" xlink:href=\"#DejaVuSans-50\"/>\n       <use x=\"147.412109\" xlink:href=\"#DejaVuSans-48\"/>\n      </g>\n     </g>\n    </g>\n    <g id=\"ytick_3\">\n     <g id=\"line2d_9\">\n      <g>\n       <use style=\"stroke:#000000;stroke-width:0.8;\" x=\"35.304688\" xlink:href=\"#mba4178ed3e\" y=\"149.624273\"/>\n      </g>\n     </g>\n     <g id=\"text_9\">\n      <!-- −10 -->\n      <g transform=\"translate(7.2 153.423491)scale(0.1 -0.1)\">\n       <use xlink:href=\"#DejaVuSans-8722\"/>\n       <use x=\"83.789062\" xlink:href=\"#DejaVuSans-49\"/>\n       <use x=\"147.412109\" xlink:href=\"#DejaVuSans-48\"/>\n      </g>\n     </g>\n    </g>\n    <g id=\"ytick_4\">\n     <g id=\"line2d_10\">\n      <g>\n       <use style=\"stroke:#000000;stroke-width:0.8;\" x=\"35.304688\" xlink:href=\"#mba4178ed3e\" y=\"116.878815\"/>\n      </g>\n     </g>\n     <g id=\"text_10\">\n      <!-- 0 -->\n      <g transform=\"translate(21.942188 120.678034)scale(0.1 -0.1)\">\n       <use xlink:href=\"#DejaVuSans-48\"/>\n      </g>\n     </g>\n    </g>\n    <g id=\"ytick_5\">\n     <g id=\"line2d_11\">\n      <g>\n       <use style=\"stroke:#000000;stroke-width:0.8;\" x=\"35.304688\" xlink:href=\"#mba4178ed3e\" y=\"84.133358\"/>\n      </g>\n     </g>\n     <g id=\"text_11\">\n      <!-- 10 -->\n      <g transform=\"translate(15.579688 87.932577)scale(0.1 -0.1)\">\n       <use xlink:href=\"#DejaVuSans-49\"/>\n       <use x=\"63.623047\" xlink:href=\"#DejaVuSans-48\"/>\n      </g>\n     </g>\n    </g>\n    <g id=\"ytick_6\">\n     <g id=\"line2d_12\">\n      <g>\n       <use style=\"stroke:#000000;stroke-width:0.8;\" x=\"35.304688\" xlink:href=\"#mba4178ed3e\" y=\"51.387901\"/>\n      </g>\n     </g>\n     <g id=\"text_12\">\n      <!-- 20 -->\n      <g transform=\"translate(15.579688 55.18712)scale(0.1 -0.1)\">\n       <use xlink:href=\"#DejaVuSans-50\"/>\n       <use x=\"63.623047\" xlink:href=\"#DejaVuSans-48\"/>\n      </g>\n     </g>\n    </g>\n    <g id=\"ytick_7\">\n     <g id=\"line2d_13\">\n      <g>\n       <use style=\"stroke:#000000;stroke-width:0.8;\" x=\"35.304688\" xlink:href=\"#mba4178ed3e\" y=\"18.642444\"/>\n      </g>\n     </g>\n     <g id=\"text_13\">\n      <!-- 30 -->\n      <g transform=\"translate(15.579688 22.441662)scale(0.1 -0.1)\">\n       <use xlink:href=\"#DejaVuSans-51\"/>\n       <use x=\"63.623047\" xlink:href=\"#DejaVuSans-48\"/>\n      </g>\n     </g>\n    </g>\n   </g>\n   <g id=\"patch_3\">\n    <path d=\"M 35.304688 224.64 \nL 35.304688 7.2 \n\" style=\"fill:none;stroke:#000000;stroke-linecap:square;stroke-linejoin:miter;stroke-width:0.8;\"/>\n   </g>\n   <g id=\"patch_4\">\n    <path d=\"M 370.104688 224.64 \nL 370.104688 7.2 \n\" style=\"fill:none;stroke:#000000;stroke-linecap:square;stroke-linejoin:miter;stroke-width:0.8;\"/>\n   </g>\n   <g id=\"patch_5\">\n    <path d=\"M 35.304688 224.64 \nL 370.104688 224.64 \n\" style=\"fill:none;stroke:#000000;stroke-linecap:square;stroke-linejoin:miter;stroke-width:0.8;\"/>\n   </g>\n   <g id=\"patch_6\">\n    <path d=\"M 35.304688 7.2 \nL 370.104688 7.2 \n\" style=\"fill:none;stroke:#000000;stroke-linecap:square;stroke-linejoin:miter;stroke-width:0.8;\"/>\n   </g>\n  </g>\n </g>\n <defs>\n  <clipPath id=\"p34cbcf6f00\">\n   <rect height=\"217.44\" width=\"334.8\" x=\"35.304688\" y=\"7.2\"/>\n  </clipPath>\n </defs>\n</svg>\n",
      "image/png": "[encoded data removed]"
     },
     "metadata": {
      "needs_background": "light"
     }
    }
   ],
   "source": [
    "plt.scatter(np.linspace(0, 1, 100), brm)\n",
    "\n",
    "\n",
    "\n"
   ]
  },
  {
   "cell_type": "code",
   "execution_count": 101,
   "metadata": {},
   "outputs": [
    {
     "output_type": "execute_result",
     "data": {
      "text/plain": "array([[ 2.        , -0.85130165, -0.05166577],\n       [-0.85130165,  2.        , -0.85130165],\n       [-0.05166577, -0.85130165,  2.        ]])"
     },
     "metadata": {},
     "execution_count": 101
    }
   ],
   "source": [
    "_cov(3, 0.1)"
   ]
  },
  {
   "cell_type": "code",
   "execution_count": 1,
   "metadata": {},
   "outputs": [
    {
     "output_type": "execute_result",
     "data": {
      "text/plain": "3"
     },
     "metadata": {},
     "execution_count": 1
    }
   ],
   "source": [
    "m = 4\n",
    "m//2 + 1"
   ]
  },
  {
   "cell_type": "code",
   "execution_count": null,
   "metadata": {},
   "outputs": [],
   "source": []
  }
 ]
}