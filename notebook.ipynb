{
 "metadata": {
  "language_info": {
   "codemirror_mode": {
    "name": "ipython",
    "version": 3
   },
   "file_extension": ".py",
   "mimetype": "text/x-python",
   "name": "python",
   "nbconvert_exporter": "python",
   "pygments_lexer": "ipython3",
   "version": "3.8.4-final"
  },
  "orig_nbformat": 2,
  "kernelspec": {
   "name": "python_defaultSpec_1599742994616",
   "display_name": "Python 3.8.4 64-bit"
  }
 },
 "nbformat": 4,
 "nbformat_minor": 2,
 "cells": [
  {
   "cell_type": "code",
   "execution_count": 1,
   "metadata": {},
   "outputs": [
    {
     "output_type": "error",
     "ename": "SyntaxError",
     "evalue": "invalid syntax (<ipython-input-1-8ecaca46e653>, line 9)",
     "traceback": [
      "\u001b[0;36m  File \u001b[0;32m\"<ipython-input-1-8ecaca46e653>\"\u001b[0;36m, line \u001b[0;32m9\u001b[0m\n\u001b[0;31m    m = self._embedding_length(return)\u001b[0m\n\u001b[0m                               ^\u001b[0m\n\u001b[0;31mSyntaxError\u001b[0m\u001b[0;31m:\u001b[0m invalid syntax\n"
     ]
    }
   ],
   "source": [
    "class GaussianProcess:\n",
    "  def __init__(self, cov_structure, process_length=7):\n",
    "    self.cov_structure = cov_structure\n",
    "    self.n = process_length\n",
    "  \n",
    "\n",
    "\n",
    "  def _get_circular_matrix(self):\n",
    "    m = self._embedding_length()\n",
    "    gamma0 = self.cov_structure[0,:]\n",
    "    return len(gamma)\n",
    "\n",
    "  @staticmethod\n",
    "  def _embedding_length(n, return_back=False):\n",
    "    \"\"\"for circular embedding matrix calculation\n",
    "    return_back arg enable increse the power of g in \n",
    "    computed eigenvalues are negative\"\"\"\n",
    "    return int(1 + np.log(n - 1) / np.log(2)) + 1\n",
    "\n",
    "  @staticmethod \n",
    "  def _check_symmetric(a, tol=1e-8):\n",
    "    return np.all(np.abs(a-a.T) < tol)\n",
    "\n",
    "  @property \n",
    "  def cov_structure(self):\n",
    "    return self.__cov_structure \n",
    "\n",
    "  @cov_structure.setter\n",
    "  def cov_structure(self, new_value):\n",
    "    if isinstance(new_value, np.ndarray):\n",
    "      row, col = new_value.shape\n",
    "      is_symetric = self._check_symmetric(new_value)\n",
    "      is_square = row == col\n",
    "      if is_square and is_symetric:\n",
    "        self.__cov_structure = new_value\n",
    "      else:\n",
    "        raise('Try to give well define Matrix -- SPD')\n",
    "\n",
    "\n",
    "  \n",
    "\n",
    "\n",
    "\n"
   ]
  },
  {
   "cell_type": "code",
   "execution_count": null,
   "metadata": {},
   "outputs": [],
   "source": []
  }
 ]
}