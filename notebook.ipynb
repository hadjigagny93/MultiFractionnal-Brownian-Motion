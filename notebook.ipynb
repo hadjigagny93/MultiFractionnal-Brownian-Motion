{
 "metadata": {
  "language_info": {
   "codemirror_mode": {
    "name": "ipython",
    "version": 3
   },
   "file_extension": ".py",
   "mimetype": "text/x-python",
   "name": "python",
   "nbconvert_exporter": "python",
   "pygments_lexer": "ipython3",
   "version": "3.8.4-final"
  },
  "orig_nbformat": 2,
  "kernelspec": {
   "name": "python_defaultSpec_1599742994616",
   "display_name": "Python 3.8.4 64-bit"
  }
 },
 "nbformat": 4,
 "nbformat_minor": 2,
 "cells": [
  {
   "cell_type": "code",
   "execution_count": 196,
   "metadata": {},
   "outputs": [],
   "source": [
    "import numpy as np\n",
    "\n",
    "class GaussianProcess:\n",
    "    def __init__(self, cov_structure, process_length=3):\n",
    "        self.cov_structure = cov_structure\n",
    "        self.n = process_length\n",
    "\n",
    "    def _get_circular_matrix(self, **kwargs):\n",
    "      m = self._embedding_length(n=self.n)\n",
    "      if kwargs:\n",
    "          m = kwargs['embedding_value'] * 2\n",
    "      # get circular matrix pattern\n",
    "      gamma0 = self.cov_structure[0,:] \n",
    "      theta0 = np.array([gamma0[k] for k in range(m//2 + 1)] + [gamma0[m-k] for k in range(m// 2 + 1, m)])\n",
    "      return self.__slice_circular(theta0), m\n",
    "\n",
    "    def get_spectrum(self):\n",
    "        circular_matrix, m = self._get_circular_matrix()\n",
    "        eigenvalues, eigenvectors = np.linalg.eig(circular_matrix)\n",
    "        while not np.all(eigenvalues > 0):\n",
    "            circular_matrix, m = self._get_circular_matrix(embedding_value=m)\n",
    "            eigenvalues, eigenvectors = np.linalg.eig(circular_matrix)\n",
    "        return eigenvalues, eigenvectors\n",
    "    \n",
    "    def simulate_gaussian_process(self):\n",
    "         eigenvalues, Q = self.get_spectrum()\n",
    "         gamma = np.diag(np.sqrt(eigenvalues))\n",
    "         random_normal = np.random.normal(0, 1, gamma.shape[0]).reshape(-1, 1)\n",
    "         a = gamma.dot(Q.T).dot(random_normal).flatten()\n",
    "         return np.fft.fft(a)[:self.n]\n",
    "\n",
    "        \n",
    "\n",
    "    @staticmethod\n",
    "    def __slice_circular(vector):\n",
    "       ntimes = len(vector) - 1\n",
    "       matrix = vector\n",
    "       permute = vector.tolist()\n",
    "       for i in range(ntimes):\n",
    "           permute = [permute[-1]] + permute[:-1]\n",
    "           matrix = np.vstack([matrix, permute])\n",
    "       return matrix\n",
    "\n",
    "\n",
    "    @staticmethod\n",
    "    def _embedding_length(n):\n",
    "      \"\"\"for circular embedding matrix calculation\n",
    "      return_back arg enable increse the power of g in \n",
    "      computed eigenvalues are negative\"\"\"\n",
    "      return int(1 + np.log(n - 1) / np.log(2))\n",
    "\n",
    "    @staticmethod \n",
    "    def _check_symmetric(a, tol=1e-8):\n",
    "      return np.all(np.abs(a-a.T) < tol)\n",
    "\n",
    "    @property \n",
    "    def cov_structure(self):\n",
    "      return self.__cov_structure \n",
    "\n",
    "    @cov_structure.setter\n",
    "    def cov_structure(self, new_value):\n",
    "      if isinstance(new_value, np.ndarray):\n",
    "          row, col = new_value.shape\n",
    "          is_symetric = self._check_symmetric(new_value)\n",
    "          is_square = row == col\n",
    "          if is_square and is_symetric:\n",
    "              self.__cov_structure = new_value\n",
    "          else:\n",
    "              raise('Try to give well define Matrix -- SPD')\n",
    "\n",
    "\n"
   ]
  },
  {
   "cell_type": "code",
   "execution_count": 197,
   "metadata": {},
   "outputs": [],
   "source": [
    "gp = GaussianProcess(np.array([[1, 0, 0], [0, 1, 0], [0, 0, 1]]))"
   ]
  },
  {
   "cell_type": "code",
   "execution_count": 204,
   "metadata": {
    "tags": []
   },
   "outputs": [
    {
     "output_type": "execute_result",
     "data": {
      "text/plain": "array([-0.88728126+0.j, -1.71513737+0.j])"
     },
     "metadata": {},
     "execution_count": 204
    }
   ],
   "source": [
    "gp.simulate_gaussian_process()"
   ]
  },
  {
   "cell_type": "code",
   "execution_count": 199,
   "metadata": {},
   "outputs": [
    {
     "output_type": "execute_result",
     "data": {
      "text/plain": "8"
     },
     "metadata": {},
     "execution_count": 199
    }
   ],
   "source": [
    "f(a=8)"
   ]
  },
  {
   "cell_type": "code",
   "execution_count": null,
   "metadata": {},
   "outputs": [],
   "source": []
  }
 ]
}